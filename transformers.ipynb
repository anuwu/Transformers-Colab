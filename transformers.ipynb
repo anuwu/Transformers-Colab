{
  "nbformat": 4,
  "nbformat_minor": 0,
  "metadata": {
    "colab": {
      "name": "transformers.ipynb",
      "provenance": [],
      "collapsed_sections": [],
      "toc_visible": true,
      "authorship_tag": "ABX9TyPPqEhTcOHx/45lz8c7whAH",
      "include_colab_link": true
    },
    "kernelspec": {
      "name": "python3",
      "display_name": "Python 3"
    },
    "accelerator": "GPU"
  },
  "cells": [
    {
      "cell_type": "markdown",
      "metadata": {
        "id": "view-in-github",
        "colab_type": "text"
      },
      "source": [
        "<a href=\"https://colab.research.google.com/github/anwesh0304/Transformers-Colab/blob/master/transformers.ipynb\" target=\"_parent\"><img src=\"https://colab.research.google.com/assets/colab-badge.svg\" alt=\"Open In Colab\"/></a>"
      ]
    },
    {
      "cell_type": "markdown",
      "metadata": {
        "id": "3QmnRsbE_yOO",
        "colab_type": "text"
      },
      "source": [
        "#**Install conda**"
      ]
    },
    {
      "cell_type": "code",
      "metadata": {
        "id": "TL1fP-K777OH",
        "colab_type": "code",
        "colab": {}
      },
      "source": [
        "! wget https://repo.anaconda.com/miniconda/Miniconda3-py37_4.8.2-Linux-x86_64.sh\n",
        "! chmod +x Miniconda3-py37_4.8.2-Linux-x86_64.sh\n",
        "! bash ./Miniconda3-py37_4.8.2-Linux-x86_64.sh -b -f -p /usr/local\n",
        "import sys\n",
        "sys.path.append('/usr/local/lib/python3.7/site-packages/')"
      ],
      "execution_count": 0,
      "outputs": []
    },
    {
      "cell_type": "code",
      "metadata": {
        "id": "j0L7X_2o8fP6",
        "colab_type": "code",
        "colab": {}
      },
      "source": [
        "! python3 -m pip install --user virtualenv\n",
        "! conda install -y pytorch torchvision cudatoolkit=10.1 -c pytorch\n",
        "! pip install tensorflow\n",
        "! pip install tensorflow_datasets"
      ],
      "execution_count": 0,
      "outputs": []
    },
    {
      "cell_type": "markdown",
      "metadata": {
        "id": "n62Kg_k4Ehci",
        "colab_type": "text"
      },
      "source": [
        "#**Create Virtual Environment**"
      ]
    },
    {
      "cell_type": "code",
      "metadata": {
        "id": "prglv22vEgze",
        "colab_type": "code",
        "colab": {}
      },
      "source": [
        "! python3 -m venv env\n",
        "! source env/bin/activate"
      ],
      "execution_count": 0,
      "outputs": []
    },
    {
      "cell_type": "markdown",
      "metadata": {
        "id": "6ysrR2J7_2yn",
        "colab_type": "text"
      },
      "source": [
        "#**Mount Drive**"
      ]
    },
    {
      "cell_type": "code",
      "metadata": {
        "id": "ppN-SAukZGiM",
        "colab_type": "code",
        "colab": {}
      },
      "source": [
        "path = \"Coursework/Q&A SOP/XLNet/transformers\" #@param {type:\"string\"}\n",
        "import os\n",
        "from google.colab import drive\n",
        "\n",
        "drive.mount('/content/drive')\n",
        "os.chdir (os.getcwd() + \"/drive/My Drive/\" + path)"
      ],
      "execution_count": 0,
      "outputs": []
    },
    {
      "cell_type": "markdown",
      "metadata": {
        "id": "sRQHtjEaVxff",
        "colab_type": "text"
      },
      "source": [
        "#**Install transformers**"
      ]
    },
    {
      "cell_type": "code",
      "metadata": {
        "id": "_DQ9XBbvZTTH",
        "colab_type": "code",
        "colab": {}
      },
      "source": [
        "! pip install ."
      ],
      "execution_count": 0,
      "outputs": []
    },
    {
      "cell_type": "markdown",
      "metadata": {
        "id": "HgS6A6qUxTN3",
        "colab_type": "text"
      },
      "source": [
        "#**Train with GPU**"
      ]
    },
    {
      "cell_type": "markdown",
      "metadata": {
        "id": "I027t4mjXogN",
        "colab_type": "text"
      },
      "source": [
        "##XLNet training"
      ]
    },
    {
      "cell_type": "code",
      "metadata": {
        "id": "Zu5NikIs9bEe",
        "colab_type": "code",
        "colab": {}
      },
      "source": [
        "! python -m torch.distributed.launch --nproc_per_node=1 ./examples/run_squad.py \\\n",
        "    --model_type xlnet \\\n",
        "    --model_name_or_path xlnet-large-cased \\\n",
        "    --do_train \\\n",
        "    --do_eval \\\n",
        "    --train_file train-v1.1.json \\\n",
        "    --predict_file $SQUAD_DIR/dev-v1.1.json \\\n",
        "    --learning_rate 3e-5 \\\n",
        "    --num_train_epochs 1 \\\n",
        "    --max_seq_length 384 \\\n",
        "    --doc_stride 128 \\\n",
        "    --output_dir ../models/wwm_uncased_finetuned_squad2/ \\\n",
        "    --per_gpu_eval_batch_size=3   \\\n",
        "    --per_gpu_train_batch_size=3 \\\n",
        "    --overwrite_output_dir\n",
        "'''\n",
        "! python -m torch.distributed.launch --nproc_per_node=1 ./examples/run_squad.py \\\n",
        "    --model_type xlnet \\\n",
        "    --model_name_or_path xlnet-base-cased \\\n",
        "    --do_eval \\\n",
        "    --predict_file dev-v1.1.json \\\n",
        "    --max_seq_length 384 \\\n",
        "    --doc_stride 128 \\\n",
        "    --output_dir ../models/wwm_uncased_finetuned_squad1/ \\\n",
        "    --per_gpu_eval_batch_size=3   \\\n",
        "'''"
      ],
      "execution_count": 0,
      "outputs": []
    },
    {
      "cell_type": "markdown",
      "metadata": {
        "id": "_PKm3vJ6YIRq",
        "colab_type": "text"
      },
      "source": [
        "##BERT Training"
      ]
    },
    {
      "cell_type": "code",
      "metadata": {
        "id": "G6ePQFnMYKyC",
        "colab_type": "code",
        "colab": {}
      },
      "source": [
        "! python -m torch.distributed.launch --nproc_per_node=1 ./examples/run_squad.py \\\n",
        "    --model_type bert \\\n",
        "    --model_name_or_path bert-large-uncased-whole-word-masking \\\n",
        "    --do_train \\\n",
        "    --do_eval \\\n",
        "    --train_file $SQUAD_DIR/train-v1.1.json \\\n",
        "    --predict_file $SQUAD_DIR/dev-v1.1.json \\\n",
        "    --learning_rate 3e-5 \\\n",
        "    --num_train_epochs 2 \\\n",
        "    --max_seq_length 384 \\\n",
        "    --doc_stride 128 \\\n",
        "    --output_dir ../models/wwm_uncased_finetuned_squad/ \\\n",
        "    --per_gpu_eval_batch_size=3   \\\n",
        "    --per_gpu_train_batch_size=3  \\\n",
        "    --overwrite_output_dir"
      ],
      "execution_count": 0,
      "outputs": []
    },
    {
      "cell_type": "markdown",
      "metadata": {
        "id": "plCUQcMOxXpW",
        "colab_type": "text"
      },
      "source": [
        "#Train with CPU"
      ]
    },
    {
      "cell_type": "code",
      "metadata": {
        "id": "h5OrY-IDczqa",
        "colab_type": "code",
        "colab": {}
      },
      "source": [
        "!python ./examples/run_squad.py --model_type bert --model_name_or_path bert-large-uncased-whole-word-masking --do_train --do_eval --do_lower_case --output_dir ../models/wwm_uncased_finetuned_squad/ --learning_rate 3e-5 --num_train_epochs 1 --max_seq_length 384 --doc_stride 128"
      ],
      "execution_count": 0,
      "outputs": []
    },
    {
      "cell_type": "markdown",
      "metadata": {
        "id": "D160kAnVYGXk",
        "colab_type": "text"
      },
      "source": [
        "#Finish"
      ]
    },
    {
      "cell_type": "code",
      "metadata": {
        "id": "VT96Z1jDIsHu",
        "colab_type": "code",
        "colab": {}
      },
      "source": [
        "! deactivate"
      ],
      "execution_count": 0,
      "outputs": []
    }
  ]
}