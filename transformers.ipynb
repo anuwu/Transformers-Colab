{
  "nbformat": 4,
  "nbformat_minor": 0,
  "metadata": {
    "colab": {
      "name": "transformers.ipynb",
      "provenance": [],
      "toc_visible": true,
      "authorship_tag": "ABX9TyNmZhnenb3EqAiObz1yQNOf",
      "include_colab_link": true
    },
    "kernelspec": {
      "name": "python3",
      "display_name": "Python 3"
    },
    "accelerator": "GPU"
  },
  "cells": [
    {
      "cell_type": "markdown",
      "metadata": {
        "id": "view-in-github",
        "colab_type": "text"
      },
      "source": [
        "<a href=\"https://colab.research.google.com/github/anwesh0304/Transformers-Colab/blob/master/transformers.ipynb\" target=\"_parent\"><img src=\"https://colab.research.google.com/assets/colab-badge.svg\" alt=\"Open In Colab\"/></a>"
      ]
    },
    {
      "cell_type": "markdown",
      "metadata": {
        "id": "3QmnRsbE_yOO",
        "colab_type": "text"
      },
      "source": [
        "#**Install conda**"
      ]
    },
    {
      "cell_type": "code",
      "metadata": {
        "id": "TL1fP-K777OH",
        "colab_type": "code",
        "colab": {}
      },
      "source": [
        "! wget https://repo.anaconda.com/miniconda/Miniconda3-py37_4.8.2-Linux-x86_64.sh\n",
        "! chmod +x Miniconda3-py37_4.8.2-Linux-x86_64.sh\n",
        "! bash ./Miniconda3-py37_4.8.2-Linux-x86_64.sh -b -f -p /usr/local\n",
        "import sys\n",
        "sys.path.append('/usr/local/lib/python3.7/site-packages/')"
      ],
      "execution_count": 0,
      "outputs": []
    },
    {
      "cell_type": "code",
      "metadata": {
        "id": "j0L7X_2o8fP6",
        "colab_type": "code",
        "colab": {}
      },
      "source": [
        "! python3 -m pip install --user virtualenv\n",
        "! conda install pytorch torchvision cudatoolkit=10.1 -c pytorch\n",
        "! pip install tensorflow\n",
        "! pip install tensorflow_datasets"
      ],
      "execution_count": 0,
      "outputs": []
    },
    {
      "cell_type": "markdown",
      "metadata": {
        "id": "n62Kg_k4Ehci",
        "colab_type": "text"
      },
      "source": [
        "#**Create Virtual Environment**"
      ]
    },
    {
      "cell_type": "code",
      "metadata": {
        "id": "prglv22vEgze",
        "colab_type": "code",
        "colab": {}
      },
      "source": [
        "! python3 -m venv env\n",
        "! source env/bin/activate"
      ],
      "execution_count": 0,
      "outputs": []
    },
    {
      "cell_type": "markdown",
      "metadata": {
        "id": "6ysrR2J7_2yn",
        "colab_type": "text"
      },
      "source": [
        "#**Mount Drive**"
      ]
    },
    {
      "cell_type": "code",
      "metadata": {
        "id": "ppN-SAukZGiM",
        "colab_type": "code",
        "colab": {}
      },
      "source": [
        "path = \"Coursework/Q&A SOP/transformers\" #@param {type:\"string\"}\n",
        "import os\n",
        "from google.colab import drive\n",
        "\n",
        "drive.mount('/content/drive')\n",
        "os.chdir (os.getcwd() + \"/drive/My Drive/\" + path)"
      ],
      "execution_count": 0,
      "outputs": []
    },
    {
      "cell_type": "markdown",
      "metadata": {
        "id": "sRQHtjEaVxff",
        "colab_type": "text"
      },
      "source": [
        "#**Install transformers**"
      ]
    },
    {
      "cell_type": "code",
      "metadata": {
        "id": "_DQ9XBbvZTTH",
        "colab_type": "code",
        "colab": {}
      },
      "source": [
        "! pip install ."
      ],
      "execution_count": 0,
      "outputs": []
    },
    {
      "cell_type": "markdown",
      "metadata": {
        "id": "HgS6A6qUxTN3",
        "colab_type": "text"
      },
      "source": [
        "#**Train with GPU**"
      ]
    },
    {
      "cell_type": "markdown",
      "metadata": {
        "id": "I027t4mjXogN",
        "colab_type": "text"
      },
      "source": [
        "##XLNet training"
      ]
    },
    {
      "cell_type": "code",
      "metadata": {
        "id": "Zu5NikIs9bEe",
        "colab_type": "code",
        "outputId": "f461357f-9b92-4540-e82f-af8197da679a",
        "colab": {
          "base_uri": "https://localhost:8080/",
          "height": 1000
        }
      },
      "source": [
        "'''\n",
        "! python -m torch.distributed.launch --nproc_per_node=1 ./examples/run_squad.py \\\n",
        "    --model_type xlnet \\\n",
        "    --model_name_or_path xlnet-base-cased \\\n",
        "    --do_train \\\n",
        "    --do_eval \\\n",
        "    --train_file train-v1.1.json \\\n",
        "    --predict_file $SQUAD_DIR/dev-v2.0.json \\\n",
        "    --learning_rate 3e-5 \\\n",
        "    --num_train_epochs 2 \\\n",
        "    --max_seq_length 384 \\\n",
        "    --doc_stride 128 \\\n",
        "    --output_dir ../models/wwm_uncased_finetuned_squad/ \\\n",
        "    --per_gpu_eval_batch_size=3   \\\n",
        "    --per_gpu_train_batch_size=3 \\\n",
        "    --overwrite_output_dir\n",
        "'''\n",
        "\n",
        "! python -m torch.distributed.launch --nproc_per_node=1 ./examples/run_squad.py \\\n",
        "    --model_type xlnet \\\n",
        "    --model_name_or_path xlnet-base-cased \\\n",
        "    --do_eval \\\n",
        "    --predict_file dev-v1.1.json \\\n",
        "    --max_seq_length 384 \\\n",
        "    --doc_stride 128 \\\n",
        "    --output_dir ../models/wwm_uncased_finetuned_squad/ \\\n",
        "    --per_gpu_eval_batch_size=3   \\"
      ],
      "execution_count": 5,
      "outputs": [
        {
          "output_type": "stream",
          "text": [
            "05/25/2020 19:01:46 - WARNING - __main__ -   Process rank: 0, device: cuda:0, n_gpu: 1, distributed training: True, 16-bits training: False\n",
            "05/25/2020 19:01:46 - INFO - transformers.configuration_utils -   loading configuration file https://s3.amazonaws.com/models.huggingface.co/bert/xlnet-base-cased-config.json from cache at /root/.cache/torch/transformers/c9cc6e53904f7f3679a31ec4af244f4419e25ebc8e71ebf8c558a31cbcf07fc8.69e5e35e0b798cab5e473f253752f8bf4d280ee37682281a23eed80f6e2d09c6\n",
            "05/25/2020 19:01:46 - INFO - transformers.configuration_utils -   Model config XLNetConfig {\n",
            "  \"architectures\": [\n",
            "    \"XLNetLMHeadModel\"\n",
            "  ],\n",
            "  \"attn_type\": \"bi\",\n",
            "  \"bi_data\": false,\n",
            "  \"bos_token_id\": 1,\n",
            "  \"clamp_len\": -1,\n",
            "  \"d_head\": 64,\n",
            "  \"d_inner\": 3072,\n",
            "  \"d_model\": 768,\n",
            "  \"do_sample\": false,\n",
            "  \"dropout\": 0.1,\n",
            "  \"end_n_top\": 5,\n",
            "  \"eos_token_id\": 2,\n",
            "  \"eos_token_ids\": null,\n",
            "  \"ff_activation\": \"gelu\",\n",
            "  \"finetuning_task\": null,\n",
            "  \"id2label\": {\n",
            "    \"0\": \"LABEL_0\",\n",
            "    \"1\": \"LABEL_1\"\n",
            "  },\n",
            "  \"initializer_range\": 0.02,\n",
            "  \"is_decoder\": false,\n",
            "  \"label2id\": {\n",
            "    \"LABEL_0\": 0,\n",
            "    \"LABEL_1\": 1\n",
            "  },\n",
            "  \"layer_norm_eps\": 1e-12,\n",
            "  \"length_penalty\": 1.0,\n",
            "  \"max_length\": 20,\n",
            "  \"mem_len\": null,\n",
            "  \"model_type\": \"xlnet\",\n",
            "  \"n_head\": 12,\n",
            "  \"n_layer\": 12,\n",
            "  \"num_beams\": 1,\n",
            "  \"num_labels\": 2,\n",
            "  \"num_return_sequences\": 1,\n",
            "  \"output_attentions\": false,\n",
            "  \"output_hidden_states\": false,\n",
            "  \"output_past\": true,\n",
            "  \"pad_token_id\": 5,\n",
            "  \"pruned_heads\": {},\n",
            "  \"repetition_penalty\": 1.0,\n",
            "  \"reuse_len\": null,\n",
            "  \"same_length\": false,\n",
            "  \"start_n_top\": 5,\n",
            "  \"summary_activation\": \"tanh\",\n",
            "  \"summary_last_dropout\": 0.1,\n",
            "  \"summary_type\": \"last\",\n",
            "  \"summary_use_proj\": true,\n",
            "  \"task_specific_params\": {\n",
            "    \"text-generation\": {\n",
            "      \"do_sample\": true,\n",
            "      \"max_length\": 250\n",
            "    }\n",
            "  },\n",
            "  \"temperature\": 1.0,\n",
            "  \"top_k\": 50,\n",
            "  \"top_p\": 1.0,\n",
            "  \"torchscript\": false,\n",
            "  \"untie_r\": true,\n",
            "  \"use_bfloat16\": false,\n",
            "  \"vocab_size\": 32000\n",
            "}\n",
            "\n",
            "05/25/2020 19:01:46 - INFO - transformers.tokenization_utils -   loading file https://s3.amazonaws.com/models.huggingface.co/bert/xlnet-base-cased-spiece.model from cache at /root/.cache/torch/transformers/dad589d582573df0293448af5109cb6981ca77239ed314e15ca63b7b8a318ddd.8b10bd978b5d01c21303cc761fc9ecd464419b3bf921864a355ba807cfbfafa8\n",
            "05/25/2020 19:01:46 - INFO - transformers.modeling_utils -   loading weights file https://s3.amazonaws.com/models.huggingface.co/bert/xlnet-base-cased-pytorch_model.bin from cache at /root/.cache/torch/transformers/24197ba0ce5dbfe23924431610704c88e2c0371afa49149360e4c823219ab474.7eac4fe898a021204e63c88c00ea68c60443c57f94b4bc3c02adbde6465745ac\n",
            "05/25/2020 19:01:49 - INFO - transformers.modeling_utils -   Weights of XLNetForQuestionAnswering not initialized from pretrained model: ['start_logits.dense.weight', 'start_logits.dense.bias', 'end_logits.dense_0.weight', 'end_logits.dense_0.bias', 'end_logits.LayerNorm.weight', 'end_logits.LayerNorm.bias', 'end_logits.dense_1.weight', 'end_logits.dense_1.bias', 'answer_class.dense_0.weight', 'answer_class.dense_0.bias', 'answer_class.dense_1.weight']\n",
            "05/25/2020 19:01:49 - INFO - transformers.modeling_utils -   Weights from pretrained model not used in XLNetForQuestionAnswering: ['lm_loss.weight', 'lm_loss.bias']\n",
            "05/25/2020 19:01:52 - INFO - __main__ -   Training/evaluation parameters Namespace(adam_epsilon=1e-08, cache_dir='', config_name='', data_dir=None, device=device(type='cuda', index=0), do_eval=True, do_lower_case=False, do_train=False, doc_stride=128, eval_all_checkpoints=False, evaluate_during_training=False, fp16=False, fp16_opt_level='O1', gradient_accumulation_steps=1, lang_id=0, learning_rate=5e-05, local_rank=0, logging_steps=500, max_answer_length=30, max_grad_norm=1.0, max_query_length=64, max_seq_length=384, max_steps=-1, model_name_or_path='xlnet-base-cased', model_type='xlnet', n_best_size=20, n_gpu=1, no_cuda=False, null_score_diff_threshold=0.0, num_train_epochs=3.0, output_dir='../models/wwm_uncased_finetuned_squad/', overwrite_cache=False, overwrite_output_dir=False, per_gpu_eval_batch_size=3, per_gpu_train_batch_size=8, predict_file='dev-v1.1.json', save_steps=500, seed=42, server_ip='', server_port='', threads=1, tokenizer_name='', train_file=None, verbose_logging=False, version_2_with_negative=False, warmup_steps=0, weight_decay=0.0)\n",
            "05/25/2020 19:01:52 - INFO - __main__ -   Loading checkpoint xlnet-base-cased for evaluation\n",
            "05/25/2020 19:01:52 - INFO - __main__ -   Evaluate the following checkpoints: ['xlnet-base-cased']\n",
            "05/25/2020 19:01:52 - INFO - transformers.configuration_utils -   loading configuration file https://s3.amazonaws.com/models.huggingface.co/bert/xlnet-base-cased-config.json from cache at /root/.cache/torch/transformers/c9cc6e53904f7f3679a31ec4af244f4419e25ebc8e71ebf8c558a31cbcf07fc8.69e5e35e0b798cab5e473f253752f8bf4d280ee37682281a23eed80f6e2d09c6\n",
            "05/25/2020 19:01:52 - INFO - transformers.configuration_utils -   Model config XLNetConfig {\n",
            "  \"architectures\": [\n",
            "    \"XLNetLMHeadModel\"\n",
            "  ],\n",
            "  \"attn_type\": \"bi\",\n",
            "  \"bi_data\": false,\n",
            "  \"bos_token_id\": 1,\n",
            "  \"clamp_len\": -1,\n",
            "  \"d_head\": 64,\n",
            "  \"d_inner\": 3072,\n",
            "  \"d_model\": 768,\n",
            "  \"do_sample\": false,\n",
            "  \"dropout\": 0.1,\n",
            "  \"end_n_top\": 5,\n",
            "  \"eos_token_id\": 2,\n",
            "  \"eos_token_ids\": null,\n",
            "  \"ff_activation\": \"gelu\",\n",
            "  \"finetuning_task\": null,\n",
            "  \"id2label\": {\n",
            "    \"0\": \"LABEL_0\",\n",
            "    \"1\": \"LABEL_1\"\n",
            "  },\n",
            "  \"initializer_range\": 0.02,\n",
            "  \"is_decoder\": false,\n",
            "  \"label2id\": {\n",
            "    \"LABEL_0\": 0,\n",
            "    \"LABEL_1\": 1\n",
            "  },\n",
            "  \"layer_norm_eps\": 1e-12,\n",
            "  \"length_penalty\": 1.0,\n",
            "  \"max_length\": 20,\n",
            "  \"mem_len\": null,\n",
            "  \"model_type\": \"xlnet\",\n",
            "  \"n_head\": 12,\n",
            "  \"n_layer\": 12,\n",
            "  \"num_beams\": 1,\n",
            "  \"num_labels\": 2,\n",
            "  \"num_return_sequences\": 1,\n",
            "  \"output_attentions\": false,\n",
            "  \"output_hidden_states\": false,\n",
            "  \"output_past\": true,\n",
            "  \"pad_token_id\": 5,\n",
            "  \"pruned_heads\": {},\n",
            "  \"repetition_penalty\": 1.0,\n",
            "  \"reuse_len\": null,\n",
            "  \"same_length\": false,\n",
            "  \"start_n_top\": 5,\n",
            "  \"summary_activation\": \"tanh\",\n",
            "  \"summary_last_dropout\": 0.1,\n",
            "  \"summary_type\": \"last\",\n",
            "  \"summary_use_proj\": true,\n",
            "  \"task_specific_params\": {\n",
            "    \"text-generation\": {\n",
            "      \"do_sample\": true,\n",
            "      \"max_length\": 250\n",
            "    }\n",
            "  },\n",
            "  \"temperature\": 1.0,\n",
            "  \"top_k\": 50,\n",
            "  \"top_p\": 1.0,\n",
            "  \"torchscript\": false,\n",
            "  \"untie_r\": true,\n",
            "  \"use_bfloat16\": false,\n",
            "  \"vocab_size\": 32000\n",
            "}\n",
            "\n",
            "05/25/2020 19:01:52 - INFO - transformers.modeling_utils -   loading weights file https://s3.amazonaws.com/models.huggingface.co/bert/xlnet-base-cased-pytorch_model.bin from cache at /root/.cache/torch/transformers/24197ba0ce5dbfe23924431610704c88e2c0371afa49149360e4c823219ab474.7eac4fe898a021204e63c88c00ea68c60443c57f94b4bc3c02adbde6465745ac\n",
            "05/25/2020 19:01:55 - INFO - transformers.modeling_utils -   Weights of XLNetForQuestionAnswering not initialized from pretrained model: ['start_logits.dense.weight', 'start_logits.dense.bias', 'end_logits.dense_0.weight', 'end_logits.dense_0.bias', 'end_logits.LayerNorm.weight', 'end_logits.LayerNorm.bias', 'end_logits.dense_1.weight', 'end_logits.dense_1.bias', 'answer_class.dense_0.weight', 'answer_class.dense_0.bias', 'answer_class.dense_1.weight']\n",
            "05/25/2020 19:01:55 - INFO - transformers.modeling_utils -   Weights from pretrained model not used in XLNetForQuestionAnswering: ['lm_loss.weight', 'lm_loss.bias']\n",
            "05/25/2020 19:01:55 - INFO - __main__ -   Creating features from dataset file at .\n",
            "100% 48/48 [00:03<00:00, 13.31it/s]\n",
            "convert squad examples to features: 100% 10570/10570 [00:40<00:00, 259.47it/s]\n",
            "add example index and unique id: 100% 10570/10570 [00:00<00:00, 795324.85it/s]\n",
            "05/25/2020 19:02:41 - INFO - __main__ -   Saving features into cached file ./cached_dev_xlnet-base-cased_384\n",
            "05/25/2020 19:02:57 - INFO - __main__ -   ***** Running evaluation  *****\n",
            "05/25/2020 19:02:57 - INFO - __main__ -     Num examples = 10906\n",
            "05/25/2020 19:02:57 - INFO - __main__ -     Batch size = 3\n",
            "Evaluating: 100% 3636/3636 [06:04<00:00,  9.97it/s]\n",
            "05/25/2020 19:09:02 - INFO - __main__ -     Evaluation done in total 364.876474 secs (0.033456 sec per example)\n",
            "05/25/2020 19:09:02 - INFO - transformers.data.metrics.squad_metrics -   Writing predictions to: ../models/wwm_uncased_finetuned_squad/predictions_.json\n",
            "05/25/2020 19:09:04 - INFO - __main__ -   Results: {'exact': 0.0, 'f1': 0.5769176618661845, 'total': 10570, 'HasAns_exact': 0.0, 'HasAns_f1': 0.5769176618661845, 'HasAns_total': 10570, 'best_exact': 0.0, 'best_exact_thresh': 0.0, 'best_f1': 0.5769176618661845, 'best_f1_thresh': 0.0}\n"
          ],
          "name": "stdout"
        }
      ]
    },
    {
      "cell_type": "markdown",
      "metadata": {
        "id": "_PKm3vJ6YIRq",
        "colab_type": "text"
      },
      "source": [
        "##BERT Training"
      ]
    },
    {
      "cell_type": "code",
      "metadata": {
        "id": "G6ePQFnMYKyC",
        "colab_type": "code",
        "colab": {}
      },
      "source": [
        "! python -m torch.distributed.launch --nproc_per_node=1 ./examples/run_squad.py \\\n",
        "    --model_type bert \\\n",
        "    --model_name_or_path bert-large-uncased-whole-word-masking \\\n",
        "    --do_train \\\n",
        "    --do_eval \\\n",
        "    --train_file $SQUAD_DIR/train-v1.1.json \\\n",
        "    --predict_file $SQUAD_DIR/dev-v1.1.json \\\n",
        "    --learning_rate 3e-5 \\\n",
        "    --num_train_epochs 2 \\\n",
        "    --max_seq_length 384 \\\n",
        "    --doc_stride 128 \\\n",
        "    --output_dir ../models/wwm_uncased_finetuned_squad/ \\\n",
        "    --per_gpu_eval_batch_size=3   \\\n",
        "    --per_gpu_train_batch_size=3  \\\n",
        "    --overwrite_output_dir"
      ],
      "execution_count": 0,
      "outputs": []
    },
    {
      "cell_type": "markdown",
      "metadata": {
        "id": "plCUQcMOxXpW",
        "colab_type": "text"
      },
      "source": [
        "##Train with CPU"
      ]
    },
    {
      "cell_type": "code",
      "metadata": {
        "id": "h5OrY-IDczqa",
        "colab_type": "code",
        "colab": {}
      },
      "source": [
        "!python ./examples/run_squad.py --model_type bert --model_name_or_path bert-large-uncased-whole-word-masking --do_train --do_eval --do_lower_case --output_dir ../models/wwm_uncased_finetuned_squad/ --learning_rate 3e-5 --num_train_epochs 1 --max_seq_length 384 --doc_stride 128"
      ],
      "execution_count": 0,
      "outputs": []
    },
    {
      "cell_type": "markdown",
      "metadata": {
        "id": "D160kAnVYGXk",
        "colab_type": "text"
      },
      "source": [
        "#Finish"
      ]
    },
    {
      "cell_type": "code",
      "metadata": {
        "id": "VT96Z1jDIsHu",
        "colab_type": "code",
        "colab": {}
      },
      "source": [
        "! deactivate"
      ],
      "execution_count": 0,
      "outputs": []
    }
  ]
}